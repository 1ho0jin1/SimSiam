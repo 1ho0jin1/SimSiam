{
  "nbformat": 4,
  "nbformat_minor": 0,
  "metadata": {
    "colab": {
      "name": "SimSiam.ipynb",
      "provenance": [],
      "collapsed_sections": [],
      "toc_visible": true,
      "include_colab_link": true
    },
    "kernelspec": {
      "display_name": "Python 3",
      "name": "python3"
    },
    "widgets": {
      "application/vnd.jupyter.widget-state+json": {
        "704af07aa94c4490b8851fd4ef32313e": {
          "model_module": "@jupyter-widgets/controls",
          "model_name": "HBoxModel",
          "state": {
            "_view_name": "HBoxView",
            "_dom_classes": [],
            "_model_name": "HBoxModel",
            "_view_module": "@jupyter-widgets/controls",
            "_model_module_version": "1.5.0",
            "_view_count": null,
            "_view_module_version": "1.5.0",
            "box_style": "",
            "layout": "IPY_MODEL_488f754fb9f24b509da8b3ce36f30c17",
            "_model_module": "@jupyter-widgets/controls",
            "children": [
              "IPY_MODEL_9ef9a6669244495d847d2b6b9b6036d5",
              "IPY_MODEL_ae51b49fda63489b91a4c635f3d9fd7d"
            ]
          }
        },
        "488f754fb9f24b509da8b3ce36f30c17": {
          "model_module": "@jupyter-widgets/base",
          "model_name": "LayoutModel",
          "state": {
            "_view_name": "LayoutView",
            "grid_template_rows": null,
            "right": null,
            "justify_content": null,
            "_view_module": "@jupyter-widgets/base",
            "overflow": null,
            "_model_module_version": "1.2.0",
            "_view_count": null,
            "flex_flow": null,
            "width": null,
            "min_width": null,
            "border": null,
            "align_items": null,
            "bottom": null,
            "_model_module": "@jupyter-widgets/base",
            "top": null,
            "grid_column": null,
            "overflow_y": null,
            "overflow_x": null,
            "grid_auto_flow": null,
            "grid_area": null,
            "grid_template_columns": null,
            "flex": null,
            "_model_name": "LayoutModel",
            "justify_items": null,
            "grid_row": null,
            "max_height": null,
            "align_content": null,
            "visibility": null,
            "align_self": null,
            "height": null,
            "min_height": null,
            "padding": null,
            "grid_auto_rows": null,
            "grid_gap": null,
            "max_width": null,
            "order": null,
            "_view_module_version": "1.2.0",
            "grid_template_areas": null,
            "object_position": null,
            "object_fit": null,
            "grid_auto_columns": null,
            "margin": null,
            "display": null,
            "left": null
          }
        },
        "9ef9a6669244495d847d2b6b9b6036d5": {
          "model_module": "@jupyter-widgets/controls",
          "model_name": "FloatProgressModel",
          "state": {
            "_view_name": "ProgressView",
            "style": "IPY_MODEL_2388dda990574798b8c44545bb4fb0a3",
            "_dom_classes": [],
            "description": "",
            "_model_name": "FloatProgressModel",
            "bar_style": "info",
            "max": 1,
            "_view_module": "@jupyter-widgets/controls",
            "_model_module_version": "1.5.0",
            "value": 1,
            "_view_count": null,
            "_view_module_version": "1.5.0",
            "orientation": "horizontal",
            "min": 0,
            "description_tooltip": null,
            "_model_module": "@jupyter-widgets/controls",
            "layout": "IPY_MODEL_fb823075794342239f88a2674f3ddf74"
          }
        },
        "ae51b49fda63489b91a4c635f3d9fd7d": {
          "model_module": "@jupyter-widgets/controls",
          "model_name": "HTMLModel",
          "state": {
            "_view_name": "HTMLView",
            "style": "IPY_MODEL_025f90a33531458a8a9bb0d1508486c8",
            "_dom_classes": [],
            "description": "",
            "_model_name": "HTMLModel",
            "placeholder": "​",
            "_view_module": "@jupyter-widgets/controls",
            "_model_module_version": "1.5.0",
            "value": " 170500096/? [00:20&lt;00:00, 33047919.37it/s]",
            "_view_count": null,
            "_view_module_version": "1.5.0",
            "description_tooltip": null,
            "_model_module": "@jupyter-widgets/controls",
            "layout": "IPY_MODEL_1c1d7132b2ad4dc28d350219733cf167"
          }
        },
        "2388dda990574798b8c44545bb4fb0a3": {
          "model_module": "@jupyter-widgets/controls",
          "model_name": "ProgressStyleModel",
          "state": {
            "_view_name": "StyleView",
            "_model_name": "ProgressStyleModel",
            "description_width": "initial",
            "_view_module": "@jupyter-widgets/base",
            "_model_module_version": "1.5.0",
            "_view_count": null,
            "_view_module_version": "1.2.0",
            "bar_color": null,
            "_model_module": "@jupyter-widgets/controls"
          }
        },
        "fb823075794342239f88a2674f3ddf74": {
          "model_module": "@jupyter-widgets/base",
          "model_name": "LayoutModel",
          "state": {
            "_view_name": "LayoutView",
            "grid_template_rows": null,
            "right": null,
            "justify_content": null,
            "_view_module": "@jupyter-widgets/base",
            "overflow": null,
            "_model_module_version": "1.2.0",
            "_view_count": null,
            "flex_flow": null,
            "width": null,
            "min_width": null,
            "border": null,
            "align_items": null,
            "bottom": null,
            "_model_module": "@jupyter-widgets/base",
            "top": null,
            "grid_column": null,
            "overflow_y": null,
            "overflow_x": null,
            "grid_auto_flow": null,
            "grid_area": null,
            "grid_template_columns": null,
            "flex": null,
            "_model_name": "LayoutModel",
            "justify_items": null,
            "grid_row": null,
            "max_height": null,
            "align_content": null,
            "visibility": null,
            "align_self": null,
            "height": null,
            "min_height": null,
            "padding": null,
            "grid_auto_rows": null,
            "grid_gap": null,
            "max_width": null,
            "order": null,
            "_view_module_version": "1.2.0",
            "grid_template_areas": null,
            "object_position": null,
            "object_fit": null,
            "grid_auto_columns": null,
            "margin": null,
            "display": null,
            "left": null
          }
        },
        "025f90a33531458a8a9bb0d1508486c8": {
          "model_module": "@jupyter-widgets/controls",
          "model_name": "DescriptionStyleModel",
          "state": {
            "_view_name": "StyleView",
            "_model_name": "DescriptionStyleModel",
            "description_width": "",
            "_view_module": "@jupyter-widgets/base",
            "_model_module_version": "1.5.0",
            "_view_count": null,
            "_view_module_version": "1.2.0",
            "_model_module": "@jupyter-widgets/controls"
          }
        },
        "1c1d7132b2ad4dc28d350219733cf167": {
          "model_module": "@jupyter-widgets/base",
          "model_name": "LayoutModel",
          "state": {
            "_view_name": "LayoutView",
            "grid_template_rows": null,
            "right": null,
            "justify_content": null,
            "_view_module": "@jupyter-widgets/base",
            "overflow": null,
            "_model_module_version": "1.2.0",
            "_view_count": null,
            "flex_flow": null,
            "width": null,
            "min_width": null,
            "border": null,
            "align_items": null,
            "bottom": null,
            "_model_module": "@jupyter-widgets/base",
            "top": null,
            "grid_column": null,
            "overflow_y": null,
            "overflow_x": null,
            "grid_auto_flow": null,
            "grid_area": null,
            "grid_template_columns": null,
            "flex": null,
            "_model_name": "LayoutModel",
            "justify_items": null,
            "grid_row": null,
            "max_height": null,
            "align_content": null,
            "visibility": null,
            "align_self": null,
            "height": null,
            "min_height": null,
            "padding": null,
            "grid_auto_rows": null,
            "grid_gap": null,
            "max_width": null,
            "order": null,
            "_view_module_version": "1.2.0",
            "grid_template_areas": null,
            "object_position": null,
            "object_fit": null,
            "grid_auto_columns": null,
            "margin": null,
            "display": null,
            "left": null
          }
        }
      }
    },
    "accelerator": "GPU"
  },
  "cells": [
    {
      "cell_type": "markdown",
      "metadata": {
        "id": "view-in-github",
        "colab_type": "text"
      },
      "source": [
        "<a href=\"https://colab.research.google.com/github/1ho0jin1/SimSiam_ECE/blob/main/SimSiam_ECE.ipynb\" target=\"_parent\"><img src=\"https://colab.research.google.com/assets/colab-badge.svg\" alt=\"Open In Colab\"/></a>"
      ]
    },
    {
      "cell_type": "code",
      "metadata": {
        "colab": {
          "base_uri": "https://localhost:8080/"
        },
        "id": "ZsMZfHk-FEGU",
        "outputId": "ce735007-439c-4cb3-f5ca-926fb3d29802"
      },
      "source": [
        "import numpy as np\r\n",
        "import matplotlib.pyplot as plt\r\n",
        "import time\r\n",
        "import datetime\r\n",
        "import easydict\r\n",
        "import PIL.Image as Image\r\n",
        "from scipy.optimize import linear_sum_assignment\r\n",
        "import torchvision\r\n",
        "import torchvision.models as models\r\n",
        "import torchvision.transforms as transforms\r\n",
        "import torch\r\n",
        "import torch.nn as nn\r\n",
        "import torch.optim as optim\r\n",
        "import torch.nn.functional as F\r\n",
        "from torch.utils.data import DataLoader,Dataset\r\n",
        "from torchsummary import summary\r\n",
        "\r\n",
        "device = torch.device('cuda:0' if torch.cuda.is_available() else 'cpu')\r\n",
        "print('device:',device)\r\n",
        "!nvidia-smi"
      ],
      "execution_count": null,
      "outputs": [
        {
          "output_type": "stream",
          "text": [
            "device: cuda:0\n",
            "Tue Jan  5 05:32:45 2021       \n",
            "+-----------------------------------------------------------------------------+\n",
            "| NVIDIA-SMI 460.27.04    Driver Version: 418.67       CUDA Version: 10.1     |\n",
            "|-------------------------------+----------------------+----------------------+\n",
            "| GPU  Name        Persistence-M| Bus-Id        Disp.A | Volatile Uncorr. ECC |\n",
            "| Fan  Temp  Perf  Pwr:Usage/Cap|         Memory-Usage | GPU-Util  Compute M. |\n",
            "|                               |                      |               MIG M. |\n",
            "|===============================+======================+======================|\n",
            "|   0  Tesla P100-PCIE...  Off  | 00000000:00:04.0 Off |                    0 |\n",
            "| N/A   34C    P0    25W / 250W |     10MiB / 16280MiB |      0%      Default |\n",
            "|                               |                      |                 ERR! |\n",
            "+-------------------------------+----------------------+----------------------+\n",
            "                                                                               \n",
            "+-----------------------------------------------------------------------------+\n",
            "| Processes:                                                                  |\n",
            "|  GPU   GI   CI        PID   Type   Process name                  GPU Memory |\n",
            "|        ID   ID                                                   Usage      |\n",
            "|=============================================================================|\n",
            "|  No running processes found                                                 |\n",
            "+-----------------------------------------------------------------------------+\n"
          ],
          "name": "stdout"
        }
      ]
    },
    {
      "cell_type": "markdown",
      "metadata": {
        "id": "Q2yII69ScoPL"
      },
      "source": [
        "# Data Preparation and Visualization"
      ]
    },
    {
      "cell_type": "code",
      "metadata": {
        "colab": {
          "base_uri": "https://localhost:8080/",
          "height": 143,
          "referenced_widgets": [
            "704af07aa94c4490b8851fd4ef32313e",
            "488f754fb9f24b509da8b3ce36f30c17",
            "9ef9a6669244495d847d2b6b9b6036d5",
            "ae51b49fda63489b91a4c635f3d9fd7d",
            "2388dda990574798b8c44545bb4fb0a3",
            "fb823075794342239f88a2674f3ddf74",
            "025f90a33531458a8a9bb0d1508486c8",
            "1c1d7132b2ad4dc28d350219733cf167"
          ]
        },
        "id": "ekfa9UB8IIvS",
        "outputId": "f782c895-6dcf-43fc-ddae-305532d06ae3"
      },
      "source": [
        "label_dict = {\r\n",
        "    0:\"airplane\",\r\n",
        "    1:\"automobile\",\r\n",
        "    2:\"bird\",\r\n",
        "    3:\"cat\",\r\n",
        "    4:\"deer\",\r\n",
        "    5:\"dog\",\r\n",
        "    6:\"frog\",\r\n",
        "    7:\"horse\",\r\n",
        "    8:\"ship\",\r\n",
        "    9:\"truck\"\r\n",
        "}\r\n",
        "\r\n",
        "class CIFAR10_(torchvision.datasets.CIFAR10):\r\n",
        "    def __getitem__(self, index):\r\n",
        "        img, target = self.data[index], self.targets[index]\r\n",
        "        img = Image.fromarray(img)\r\n",
        "            \r\n",
        "        if self.transform is not None:\r\n",
        "            img1 = self.transform(img)\r\n",
        "            if self.train:\r\n",
        "                img2 = self.transform(img)\r\n",
        "\r\n",
        "        if self.train:\r\n",
        "            return img1, img2, target, index\r\n",
        "        else:\r\n",
        "            return img1, target, index\r\n",
        "\r\n",
        "\r\n",
        "# CIFAR10 mean, std\r\n",
        "CIFAR_mean = torch.FloatTensor([0.4914, 0.4822, 0.4465])\r\n",
        "CIFAR_std = torch.FloatTensor([0.2023, 0.1994, 0.2010])\r\n",
        "\r\n",
        "totensor = transforms.ToTensor()\r\n",
        "toimg = transforms.ToPILImage()\r\n",
        "\r\n",
        "transform_train = transforms.Compose([\r\n",
        "    transforms.RandomResizedCrop(size=32, scale=(0.2,1.)),\r\n",
        "    transforms.RandomHorizontalFlip(),\r\n",
        "    transforms.ColorJitter(0.4, 0.4, 0.4, 0.1),\r\n",
        "    transforms.RandomGrayscale(p=0.2),\r\n",
        "    transforms.ToTensor(),\r\n",
        "    transforms.Normalize(mean=CIFAR_mean, std=CIFAR_std),\r\n",
        "])\r\n",
        "\r\n",
        "transform_test = transforms.Compose([\r\n",
        "    transforms.ToTensor(),\r\n",
        "    transforms.Normalize(mean=CIFAR_mean, std=CIFAR_std),\r\n",
        "])\r\n",
        "\r\n",
        "unnorm = transforms.Normalize(mean=-CIFAR_mean/CIFAR_std, std=1/CIFAR_std)\r\n",
        "\r\n",
        "# for SimSiam training\r\n",
        "train_batch_size = 512\r\n",
        "test_batch_size = 256\r\n",
        "trainset = CIFAR10_(root='./data', train=True, download=True, transform=transform_train)\r\n",
        "testset = CIFAR10_(root='./data', train=False, download=True, transform=transform_test)\r\n",
        "trainloader = torch.utils.data.DataLoader(trainset, batch_size=train_batch_size, shuffle=True, drop_last=True)\r\n",
        "testloader = torch.utils.data.DataLoader(testset, batch_size=test_batch_size, shuffle=False, drop_last=True)\r\n",
        "\r\n",
        "# for knn monitoring\r\n",
        "bank_batch_size = 500\r\n",
        "query_batch_size = 100\r\n",
        "bankset = torchvision.datasets.CIFAR10(root='./data', train=True, download=True, transform=transform_test)\r\n",
        "queryset = torchvision.datasets.CIFAR10(root='./data', train=False, download=True, transform=transform_test)\r\n",
        "bankloader = torch.utils.data.DataLoader(bankset, batch_size=bank_batch_size, shuffle=False, drop_last=False)\r\n",
        "queryloader = torch.utils.data.DataLoader(queryset, batch_size=query_batch_size, shuffle=False, drop_last=False)\r\n",
        "\r\n",
        "# for classifier training : must shuffle trainset\r\n",
        "classifier_trainloader = torch.utils.data.DataLoader(bankset,batch_size=bank_batch_size,shuffle=True,drop_last=False)"
      ],
      "execution_count": null,
      "outputs": [
        {
          "output_type": "stream",
          "text": [
            "Downloading https://www.cs.toronto.edu/~kriz/cifar-10-python.tar.gz to ./data/cifar-10-python.tar.gz\n"
          ],
          "name": "stdout"
        },
        {
          "output_type": "display_data",
          "data": {
            "application/vnd.jupyter.widget-view+json": {
              "model_id": "704af07aa94c4490b8851fd4ef32313e",
              "version_minor": 0,
              "version_major": 2
            },
            "text/plain": [
              "HBox(children=(FloatProgress(value=1.0, bar_style='info', max=1.0), HTML(value='')))"
            ]
          },
          "metadata": {
            "tags": []
          }
        },
        {
          "output_type": "stream",
          "text": [
            "Extracting ./data/cifar-10-python.tar.gz to ./data\n",
            "Files already downloaded and verified\n",
            "Files already downloaded and verified\n",
            "Files already downloaded and verified\n"
          ],
          "name": "stdout"
        }
      ]
    },
    {
      "cell_type": "code",
      "metadata": {
        "colab": {
          "base_uri": "https://localhost:8080/",
          "height": 390
        },
        "id": "GVLEN0foZn4A",
        "outputId": "e0398b23-e732-4d3f-a8c8-7fae313bd8f5"
      },
      "source": [
        "x1,x2,label,_ = next(iter(trainloader))\r\n",
        "\r\n",
        "idx = np.random.randint(0,len(x1)-4)\r\n",
        "fig,ax = plt.subplots(3,2,figsize=(4,6))\r\n",
        "for i in range(3):\r\n",
        "  ax[i,0].imshow(unnorm(x1[i+idx]).permute(1,2,0))\r\n",
        "  ax[i,1].imshow(unnorm(x2[i+idx]).permute(1,2,0))\r\n",
        "  ax[i,0].set_title(label_dict[int(label[i+idx])])\r\n",
        "  ax[i,0].axis('off')"
      ],
      "execution_count": null,
      "outputs": [
        {
          "output_type": "display_data",
          "data": {
            "image/png": "[encoded data removed]",
            "text/plain": [
              "<Figure size 288x432 with 6 Axes>"
            ]
          },
          "metadata": {
            "tags": [],
            "needs_background": "light"
          }
        }
      ]
    },
    {
      "cell_type": "markdown",
      "metadata": {
        "id": "cCmuoClAcyax"
      },
      "source": [
        "# Model Architecture\r\n",
        "1. Feature Extractor\r\n",
        "- CNN : ResNet 18 (avg pool output: 512-dim)\r\n",
        "- FC  : 512-2048-2048 (2-layer projection MLP)\r\n",
        "\r\n",
        "* note that pre-activation resnet is used  \r\n",
        "code from: https://github.com/kuangliu/pytorch-cifar/blob/master/models/preact_resnet.py\r\n",
        "\r\n",
        "2. Predictor\r\n",
        "- FC : 2048 - 512 - 2048 bottleneck structure"
      ]
    },
    {
      "cell_type": "code",
      "metadata": {
        "id": "8sRSZ5wHnaQm"
      },
      "source": [
        "class BasicBlock(nn.Module):\r\n",
        "  def __init__(self, in_ch, out_ch, stride=1):\r\n",
        "    super(BasicBlock,self).__init__()\r\n",
        "    self.stride = stride\r\n",
        "    self.relu = nn.ReLU(inplace=True)\r\n",
        "    self.bn1 = nn.BatchNorm2d(in_ch)\r\n",
        "    self.conv1 = nn.Conv2d(in_ch,out_ch,kernel_size=3,stride=stride,padding=1)\r\n",
        "    self.bn2 = nn.BatchNorm2d(out_ch)\r\n",
        "    self.conv2 = nn.Conv2d(out_ch,out_ch,kernel_size=3,stride=1,padding=1)\r\n",
        "    if stride != 1:\r\n",
        "      self.shortcut = nn.Conv2d(in_ch,out_ch,kernel_size=1,stride=stride)\r\n",
        "\r\n",
        "  def forward(self,x):\r\n",
        "    out = self.bn1(x)\r\n",
        "    out = self.relu(out)\r\n",
        "    shortcut = self.shortcut(out) if hasattr(self,'shortcut') else x\r\n",
        "    out = self.conv1(out)\r\n",
        "    out = self.bn2(out)\r\n",
        "    out = self.relu(out)\r\n",
        "    out = self.conv2(out)\r\n",
        "    out += shortcut\r\n",
        "    return out\r\n",
        "\r\n",
        "class pre_resnet18(nn.Module):\r\n",
        "  def __init__(self):\r\n",
        "    super(pre_resnet18,self).__init__()\r\n",
        "    self.cnn = nn.Conv2d(3,64,kernel_size=3,stride=1,padding=1)\r\n",
        "    self.blk1 = nn.Sequential(\r\n",
        "        BasicBlock(64,64,stride=1),\r\n",
        "        BasicBlock(64,64,stride=1),\r\n",
        "    )\r\n",
        "    self.blk2 = nn.Sequential(\r\n",
        "        BasicBlock(64,128,stride=2),\r\n",
        "        BasicBlock(128,128,stride=1),\r\n",
        "    )\r\n",
        "    self.blk3 = nn.Sequential(\r\n",
        "        BasicBlock(128,256,stride=2),\r\n",
        "        BasicBlock(256,256,stride=1),\r\n",
        "    )\r\n",
        "    self.blk4 = nn.Sequential(\r\n",
        "        BasicBlock(256,512,stride=2),\r\n",
        "        BasicBlock(512,512,stride=1),\r\n",
        "    )\r\n",
        "    self.avgpool = nn.AdaptiveAvgPool2d((1,1))\r\n",
        "    self.fc = nn.Linear(512,10)\r\n",
        "\r\n",
        "\r\n",
        "    # initialize conv >> follows Pytorch default initialization!\r\n",
        "    \"\"\"\r\n",
        "    for m in self.modules():\r\n",
        "      if isinstance(m, nn.Conv2d):\r\n",
        "        nn.init.kaiming_normal_(m.weight,mode='fan_out',nonlinearity='relu')\r\n",
        "    \"\"\"\r\n",
        "\r\n",
        "  def forward(self,x):\r\n",
        "    out = self.cnn(x)\r\n",
        "    out = self.blk1(out)\r\n",
        "    out = self.blk2(out)\r\n",
        "    out = self.blk3(out)\r\n",
        "    out = self.blk4(out)\r\n",
        "    out = self.avgpool(out)\r\n",
        "    out = out.view(out.shape[0],-1)\r\n",
        "    out = self.fc(out)\r\n",
        "    return out\r\n",
        "\r\n",
        "\r\n",
        "class PreActBlock(nn.Module):\r\n",
        "    '''Pre-activation version of the BasicBlock.'''\r\n",
        "    expansion = 1\r\n",
        "\r\n",
        "    def __init__(self, in_planes, planes, stride=1):\r\n",
        "        super(PreActBlock, self).__init__()\r\n",
        "        self.bn1 = nn.BatchNorm2d(in_planes)\r\n",
        "        self.conv1 = nn.Conv2d(in_planes, planes, kernel_size=3, stride=stride, padding=1, bias=False)\r\n",
        "        self.bn2 = nn.BatchNorm2d(planes)\r\n",
        "        self.conv2 = nn.Conv2d(planes, planes, kernel_size=3, stride=1, padding=1, bias=False)\r\n",
        "\r\n",
        "        if stride != 1 or in_planes != self.expansion*planes:\r\n",
        "            self.shortcut = nn.Sequential(\r\n",
        "                nn.Conv2d(in_planes, self.expansion*planes, kernel_size=1, stride=stride, bias=False)\r\n",
        "            )\r\n",
        "\r\n",
        "    def forward(self, x):\r\n",
        "        out = F.relu(self.bn1(x))\r\n",
        "        shortcut = self.shortcut(out) if hasattr(self, 'shortcut') else x\r\n",
        "        out = self.conv1(out)\r\n",
        "        out = self.conv2(F.relu(self.bn2(out)))\r\n",
        "        out += shortcut\r\n",
        "        return out\r\n",
        "\r\n",
        "\r\n",
        "class PreActBottleneck(nn.Module):\r\n",
        "    '''Pre-activation version of the original Bottleneck module.'''\r\n",
        "    expansion = 4\r\n",
        "\r\n",
        "    def __init__(self, in_planes, planes, stride=1):\r\n",
        "        super(PreActBottleneck, self).__init__()\r\n",
        "        self.bn1 = nn.BatchNorm2d(in_planes)\r\n",
        "        self.conv1 = nn.Conv2d(in_planes, planes, kernel_size=1, bias=False)\r\n",
        "        self.bn2 = nn.BatchNorm2d(planes)\r\n",
        "        self.conv2 = nn.Conv2d(planes, planes, kernel_size=3, stride=stride, padding=1, bias=False)\r\n",
        "        self.bn3 = nn.BatchNorm2d(planes)\r\n",
        "        self.conv3 = nn.Conv2d(planes, self.expansion*planes, kernel_size=1, bias=False)\r\n",
        "\r\n",
        "        if stride != 1 or in_planes != self.expansion*planes:\r\n",
        "            self.shortcut = nn.Sequential(\r\n",
        "                nn.Conv2d(in_planes, self.expansion*planes, kernel_size=1, stride=stride, bias=False)\r\n",
        "            )\r\n",
        "\r\n",
        "    def forward(self, x):\r\n",
        "        out = F.relu(self.bn1(x))\r\n",
        "        shortcut = self.shortcut(out) if hasattr(self, 'shortcut') else x\r\n",
        "        out = self.conv1(out)\r\n",
        "        out = self.conv2(F.relu(self.bn2(out)))\r\n",
        "        out = self.conv3(F.relu(self.bn3(out)))\r\n",
        "        out += shortcut\r\n",
        "        return out\r\n",
        "\r\n",
        "\r\n",
        "class PreActResNet(nn.Module):\r\n",
        "    def __init__(self, block, num_blocks, num_classes=10):\r\n",
        "        super(PreActResNet, self).__init__()\r\n",
        "        self.in_planes = 64\r\n",
        "\r\n",
        "        self.conv1 = nn.Conv2d(3, 64, kernel_size=3, stride=1, padding=1, bias=False)\r\n",
        "        self.layer1 = self._make_layer(block, 64, num_blocks[0], stride=1)\r\n",
        "        self.layer2 = self._make_layer(block, 128, num_blocks[1], stride=2)\r\n",
        "        self.layer3 = self._make_layer(block, 256, num_blocks[2], stride=2)\r\n",
        "        self.layer4 = self._make_layer(block, 512, num_blocks[3], stride=2)\r\n",
        "        self.linear = nn.Linear(512*block.expansion, num_classes)\r\n",
        "\r\n",
        "    def _make_layer(self, block, planes, num_blocks, stride):\r\n",
        "        strides = [stride] + [1]*(num_blocks-1)\r\n",
        "        layers = []\r\n",
        "        for stride in strides:\r\n",
        "            layers.append(block(self.in_planes, planes, stride))\r\n",
        "            self.in_planes = planes * block.expansion\r\n",
        "        return nn.Sequential(*layers)\r\n",
        "\r\n",
        "    def forward(self, x):\r\n",
        "        out = self.conv1(x)\r\n",
        "        out = self.layer1(out)\r\n",
        "        out = self.layer2(out)\r\n",
        "        out = self.layer3(out)\r\n",
        "        out = self.layer4(out)\r\n",
        "        out = F.avg_pool2d(out, 4)\r\n",
        "        out = out.view(out.size(0), -1)\r\n",
        "        out = self.linear(out)\r\n",
        "        return out\r\n",
        "\r\n",
        "\r\n",
        "def PreActResNet18():\r\n",
        "    return PreActResNet(PreActBlock, [2,2,2,2])\r\n",
        "\r\n",
        "\r\n",
        "class SimSiam_CIFAR(nn.Module):\r\n",
        "  def __init__(self):\r\n",
        "    super(SimSiam_CIFAR,self).__init__()\r\n",
        "    # Projector\r\n",
        "    self.projector = PreActResNet18()\r\n",
        "    self.projector.linear = nn.Sequential(\r\n",
        "                  nn.Linear(512,2048),\r\n",
        "                  nn.BatchNorm1d(2048),\r\n",
        "                  nn.ReLU(),\r\n",
        "                  nn.Linear(2048,2048),\r\n",
        "                  nn.BatchNorm1d(2048),\r\n",
        "    )\r\n",
        "\r\n",
        "    # Predictor : get rid of output BN (sec 4.4)\r\n",
        "    self.predictor = nn.Sequential(\r\n",
        "                  nn.Linear(2048,512),\r\n",
        "                  nn.BatchNorm1d(512),\r\n",
        "                  nn.ReLU(),\r\n",
        "                  nn.Linear(512,2048),\r\n",
        "    )\r\n",
        "\r\n",
        "  def forward(self, x1, x2=None):\r\n",
        "    if self.training:\r\n",
        "      # projections\r\n",
        "      z1,z2 = self.projector(x1), self.projector(x2)\r\n",
        "      # predictions\r\n",
        "      p1,p2 = self.predictor(z1), self.predictor(z2)\r\n",
        "      return z1,z2,p1,p2\r\n",
        "    \r\n",
        "    # eval mode: single image input, single feature output\r\n",
        "    else:\r\n",
        "      assert x2 == None\r\n",
        "      return self.projector(x1)\r\n",
        "\r\n",
        "# Negative Cosine Similarity\r\n",
        "def D(p,z):\r\n",
        "  \"\"\"\r\n",
        "  z = z.detach()\r\n",
        "  p = F.normalize(p,p=2,dim=1)\r\n",
        "  z = F.normalize(z,p=2,dim=1)\r\n",
        "  return -(p*z).sum(dim=1).mean()\r\n",
        "  \"\"\"\r\n",
        "  # \"faster version\" by Patrick Hua (actually faster...?)\r\n",
        "  return - F.cosine_similarity(p, z.detach(), dim=-1).mean()\r\n",
        "\r\n",
        "\r\n",
        "# kNN monitoring function\r\n",
        "\"\"\"\r\n",
        "1. set model as eval mode\r\n",
        "2. calculate feature bank V from all 50000 training images >> (50000,2048)\r\n",
        "3. calculate features of all 10000 test images (queries) >> (10000,2048)\r\n",
        "4. calculate similarity scores using softmax >> (10000, 50000)\r\n",
        "5. using knn (k=200), get label predictions\r\n",
        "** when calculating feature bank, get rid of augmentation **\r\n",
        "\"\"\"\r\n",
        "def knn_monitor(model, bankloader, queryloader, k=200, t=0.1):\r\n",
        "  model.eval()\r\n",
        "  V = torch.zeros(50000,2048)\r\n",
        "  Q = torch.zeros(10000,2048)\r\n",
        "  train_label = torch.zeros(50000).type(torch.LongTensor)\r\n",
        "  test_label = torch.zeros(10000).type(torch.LongTensor)\r\n",
        "  \r\n",
        "  cnt = 0\r\n",
        "  for img, label in bankloader:\r\n",
        "    B = img.shape[0]\r\n",
        "    img = img.to(device)\r\n",
        "    v = model(img,None).detach()    # detach() to save memory\r\n",
        "    V[cnt:cnt+B] = v\r\n",
        "    train_label[cnt:cnt+B] = label\r\n",
        "    cnt += B\r\n",
        "  assert cnt == 50000\r\n",
        "\r\n",
        "  cnt = 0\r\n",
        "  for img, label in queryloader:\r\n",
        "    B = img.shape[0]\r\n",
        "    img = img.to(device)\r\n",
        "    q = model(img,None).detach()    # detach() to save memory\r\n",
        "    Q[cnt:cnt+B] = q\r\n",
        "    test_label[cnt:cnt+B] = label\r\n",
        "    cnt += B\r\n",
        "  assert cnt == 10000\r\n",
        "\r\n",
        "  # similarity score of Q w.r.t. V\r\n",
        "  sim_score = F.softmax(torch.mm(Q,V.T)/t,dim=1)    # (10000,50000)\r\n",
        "\r\n",
        "  # knn : k features with highest similarity\r\n",
        "  # torch.topk : returns val, idx >> get idx: index of training sample w/ highest similarity\r\n",
        "  # torch.mode : returns val, idx >> get val: most voted label\r\n",
        "  _, k_idx = torch.topk(sim_score,k)    # (10000,k)\r\n",
        "  pred, _ = torch.mode(train_label[k_idx],dim=1)    # 10000\r\n",
        "\r\n",
        "  # get back to train mode\r\n",
        "  model.train() \r\n",
        "\r\n",
        "  return torch.sum(pred == test_label), len(test_label)\r\n",
        "\r\n",
        "\r\n",
        "def get_lr(optimizer):\r\n",
        "  return optimizer.param_groups[0]['lr']\r\n",
        "\r\n",
        "def save_chkpt(model,optimizer,scheduler,epoch,loss_hist,knn_hist,save_dir):\r\n",
        "  state_dict = {\r\n",
        "      \"model_state_dict\":model.state_dict(),\r\n",
        "      \"optim_state_dict\":optimizer.state_dict(),\r\n",
        "      \"scheduler_state_dict\":scheduler.state_dict(),\r\n",
        "      \"epoch\":epoch,\r\n",
        "      \"history\":(loss_hist,knn_hist)\r\n",
        "  }\r\n",
        "  torch.save(state_dict,save_dir)"
      ],
      "execution_count": null,
      "outputs": []
    },
    {
      "cell_type": "code",
      "metadata": {
        "id": "uqT_6v19xA3e"
      },
      "source": [
        "model = SimSiam_CIFAR().to(device)\r\n",
        "\r\n",
        "epochs = 800\r\n",
        "lr = 0.03\r\n",
        "momentum = 0.9\r\n",
        "weight_decay = 0.0005\r\n",
        "optimizer = optim.SGD(model.parameters(), lr=lr, momentum=momentum, weight_decay = weight_decay)\r\n",
        "scheduler = optim.lr_scheduler.CosineAnnealingLR(optimizer,T_max=epochs)"
      ],
      "execution_count": null,
      "outputs": []
    },
    {
      "cell_type": "code",
      "metadata": {
        "id": "imVIIUtVwOHi"
      },
      "source": [
        "loss_hist = []\r\n",
        "knn_hist = []\r\n",
        "start_time = time.time()\r\n",
        "best_acc = 0\r\n",
        "for epoch in range(saved_epoch,epochs):\r\n",
        "  epoch_time = time.time()\r\n",
        "\r\n",
        "  for b,(x1,x2,label,_) in enumerate(trainloader):\r\n",
        "    x1 = x1.to(device)\r\n",
        "    x2 = x2.to(device)\r\n",
        "\r\n",
        "    optimizer.zero_grad()\r\n",
        "    z1,z2,p1,p2 = model(x1,x2)\r\n",
        "    loss = D(p1,z2)/2 + D(p2,z1)/2\r\n",
        "    loss.backward()\r\n",
        "    optimizer.step()\r\n",
        "\r\n",
        "    if b%30 == 0:\r\n",
        "      loss_hist.append(loss.item())\r\n",
        "      now = datetime.datetime.now()\r\n",
        "      print(\"epoch:{} batch:{} loss:{:.4f} lr:{:.2e} time:{}\".format(epoch, b, loss.item(), get_lr(optimizer), now.strftime('%Y-%m-%d %H:%M:%S')))\r\n",
        "  \r\n",
        "  # adjust lr by cosine annealing\r\n",
        "  scheduler.step()\r\n",
        "  correct,total = knn_monitor(model,bankloader,queryloader)\r\n",
        "  accuracy = correct/total*100\r\n",
        "  knn_hist.append(accuracy)\r\n",
        "  print(\"epoch:{} knn_acc:{:.2f}% ({}/{}) epoch_time:{:.2f}\\n\".format(epoch,accuracy,correct,total,time.time()-epoch_time))\r\n",
        "  if accuracy > best_acc:\r\n",
        "    save_dir = \"./SimSiam_pre_{}.chkpt\".format(int(accuracy*100))\r\n",
        "    save_chkpt(model,optimizer,scheduler,epoch,loss_hist,knn_hist,save_dir)\r\n",
        "    best_acc = accuracy\r\n",
        "    print(\"---------------- model saved: {:.2f}% ----------------\".format(accuracy))"
      ],
      "execution_count": null,
      "outputs": []
    },
    {
      "cell_type": "markdown",
      "metadata": {
        "id": "R7UCh444xjLG"
      },
      "source": [
        "# Linear Evaluation"
      ]
    },
    {
      "cell_type": "code",
      "metadata": {
        "id": "JS19Rh-dCSvG"
      },
      "source": [
        "classifier = nn.Linear(2048,10).to(device)\r\n",
        "optimizer = optim.SGD(classifier.parameters(),lr=1,momentum=0.9,weight_decay=0.0005)\r\n",
        "scheduler = optim.lr_scheduler.ReduceLROnPlateau(optimizer,mode='max',factor=0.1,patience=10)\r\n",
        "criterion = nn.CrossEntropyLoss()"
      ],
      "execution_count": null,
      "outputs": []
    },
    {
      "cell_type": "code",
      "metadata": {
        "id": "QCovQRPtnD1G"
      },
      "source": [
        "#training classifier\r\n",
        "classifier_loss_hist = []\r\n",
        "classifier_acc_hist = []\r\n",
        "best_acc = 20\r\n",
        "for epoch in range(200):\r\n",
        "  model.eval()\r\n",
        "  epoch_time = time.time()\r\n",
        "  if get_lr(optimizer) < 1e-3:\r\n",
        "    print(\"training finished due to accuracy stall\")\r\n",
        "    break\r\n",
        "\r\n",
        "  for batch, (img,label) in enumerate(classifier_trainloader):\r\n",
        "    img, label = img.to(device), label.to(device)\r\n",
        "    optimizer.zero_grad()\r\n",
        "\r\n",
        "    with torch.no_grad():\r\n",
        "      feature = model(img,None)\r\n",
        "    pred = classifier(feature)\r\n",
        "    loss = criterion(pred,label)\r\n",
        "    loss.backward()\r\n",
        "    optimizer.step()\r\n",
        "    if batch%40 == 0:\r\n",
        "      classifier_loss_hist.append(loss.item())\r\n",
        "      now = datetime.datetime.now()\r\n",
        "      print(\"epoch:{} batch:{} loss:{:.4f} lr:{:.2e} time:{}\".format(epoch, batch, loss.item(), get_lr(optimizer), now.strftime('%Y-%m-%d %H:%M:%S')))\r\n",
        "\r\n",
        "  correct = 0\r\n",
        "  with torch.no_grad():\r\n",
        "    for batch, (img,label) in enumerate(queryloader):\r\n",
        "      img,label = img.to(device), label.to(device)\r\n",
        "      feature = model(img,None)\r\n",
        "      pred = classifier(feature)\r\n",
        "      correct += torch.sum(torch.argmax(pred,dim=1) == label)\r\n",
        "    accuracy = correct/100.\r\n",
        "    classifier_acc_hist.append(accuracy)\r\n",
        "    print(\"epoch:{} accuracy:{:.2f}% ({}/{})\\n\".format(epoch,accuracy,correct,10000))\r\n",
        "\r\n",
        "  scheduler.step(accuracy)\r\n",
        "  if accuracy > best_acc:\r\n",
        "    best_acc = accuracy\r\n",
        "    torch.save(classifier.state_dict(),\"./classifier_largelr.pth\")\r\n",
        "    print(\"---------------- classifier saved: {:.2f}% ----------------\\n\".format(accuracy))"
      ],
      "execution_count": null,
      "outputs": []
    },
    {
      "cell_type": "code",
      "metadata": {
        "colab": {
          "base_uri": "https://localhost:8080/"
        },
        "id": "AzlKPA9R6qhb",
        "outputId": "ed6b1767-396b-47ea-8064-078f470c85ff"
      },
      "source": [
        "# Mount from google drive\r\n",
        "import os, sys\r\n",
        "from google.colab import drive\r\n",
        "drive.mount('/content/drive')"
      ],
      "execution_count": null,
      "outputs": [
        {
          "output_type": "stream",
          "text": [
            "Mounted at /content/drive\n"
          ],
          "name": "stdout"
        }
      ]
    },
    {
      "cell_type": "code",
      "metadata": {
        "colab": {
          "base_uri": "https://localhost:8080/"
        },
        "id": "qzSl9HVE6JcX",
        "outputId": "0791035b-3f12-4c39-c0d0-a54c7e2a6129"
      },
      "source": [
        "# load state dict\r\n",
        "base_dir = \"/content/drive/My Drive/MSLAB/SimSiam/\"\r\n",
        "simsiam_dir = \"SimSiam_pre_8635.chkpt\"\r\n",
        "classifier_dir = \"SimSiam_classifier_8490.pth\"\r\n",
        "\r\n",
        "chkpt = torch.load(base_dir+simsiam_dir)\r\n",
        "model.load_state_dict(chkpt[\"model_state_dict\"])\r\n",
        "classifier.load_state_dict(torch.load(base_dir+classifier_dir))"
      ],
      "execution_count": null,
      "outputs": [
        {
          "output_type": "execute_result",
          "data": {
            "text/plain": [
              "<All keys matched successfully>"
            ]
          },
          "metadata": {
            "tags": []
          },
          "execution_count": 9
        }
      ]
    },
    {
      "cell_type": "markdown",
      "metadata": {
        "id": "Td_PfwLY1QF5"
      },
      "source": [
        "# ECE Calculation & Reliability Diagram"
      ]
    },
    {
      "cell_type": "code",
      "metadata": {
        "id": "5wvxJV3U938H"
      },
      "source": [
        "class calib_metrics():\r\n",
        "  def __init__(self,targets,dataloader,model):\r\n",
        "    self.targets = targets\r\n",
        "    self.logits = self.get_logits(dataloader,model)\r\n",
        "\r\n",
        "\r\n",
        "  def get_logits(self,dataloader,model):\r\n",
        "    N = len(self.targets)\r\n",
        "    logits = torch.zeros(N,10)\r\n",
        "    with torch.no_grad():\r\n",
        "      n = 0\r\n",
        "      for img,label in dataloader:\r\n",
        "        img,label = img.to(device),label.to(device)\r\n",
        "        b = len(label)\r\n",
        "        logits[n:n+b] = model(img)\r\n",
        "        n+=b\r\n",
        "    assert n == N\r\n",
        "    return logits\r\n",
        "\r\n",
        "\r\n",
        "  def make_bins(self,M):\r\n",
        "    bins = {}\r\n",
        "    prev = 0\r\n",
        "    conf,pred = torch.max(F.softmax(self.logits,dim=1),dim=1)\r\n",
        "    for m,i in enumerate(torch.linspace(0,1,M+1)):\r\n",
        "      if m==0: continue\r\n",
        "      idx = (conf>=prev)*(conf<i)\r\n",
        "      bins[m-1] = torch.where(idx==True)[0]\r\n",
        "      prev = i\r\n",
        "    return bins\r\n",
        "\r\n",
        "\r\n",
        "  def ECE(self,M):\r\n",
        "    ece = 0\r\n",
        "    conf,pred = torch.max(F.softmax(self.logits,dim=1),dim=1)\r\n",
        "    bins = self.make_bins(M)\r\n",
        "    for m in range(M):\r\n",
        "      indices = bins[m]\r\n",
        "      bin_size = len(indices)\r\n",
        "      if bin_size == 0: continue\r\n",
        "      bin_acc = torch.sum(pred[indices] == self.targets[indices])\r\n",
        "      bin_conf = torch.sum(conf[indices])\r\n",
        "      ece += torch.abs(bin_acc-bin_conf)\r\n",
        "    ece /= len(self.targets)\r\n",
        "    return ece\r\n",
        "\r\n",
        "\r\n",
        "  def ACC(self,M):\r\n",
        "    acc_hist = []\r\n",
        "    _,pred = torch.max(F.softmax(self.logits,dim=1),dim=1)\r\n",
        "    bins = self.make_bins(M)\r\n",
        "    for m in range(M):\r\n",
        "      indices = bins[m]\r\n",
        "      bin_size = len(indices)\r\n",
        "      if bin_size == 0:\r\n",
        "        acc_hist.append(0)\r\n",
        "        continue\r\n",
        "      acc = torch.sum(pred[indices] == self.targets[indices])/bin_size\r\n",
        "      acc_hist.append(acc.item())\r\n",
        "    return acc_hist\r\n",
        "\r\n",
        "  def reliability_diagram(self,M):\r\n",
        "    acc_hist = self.ACC(M)\r\n",
        "    plt.figure(figsize=(4,4))\r\n",
        "    plt.bar(torch.arange(0,M)+0.5,acc_hist)\r\n",
        "    plt.xticks(torch.arange(0,M+1),[\"{:.2f}\".format(i/M) for i in range(M+1)],rotation=\"vertical\")\r\n",
        "    plt.title(\"Reliability Diagram (M={})\".format(M))\r\n",
        "    plt.xlabel(\"confidence\")\r\n",
        "    plt.ylabel(\"accuracy\")\r\n",
        "    plt.show()"
      ],
      "execution_count": null,
      "outputs": []
    },
    {
      "cell_type": "code",
      "metadata": {
        "colab": {
          "base_uri": "https://localhost:8080/",
          "height": 327
        },
        "id": "zv4BH5JI3MKP",
        "outputId": "d3f7aeb5-51f4-4b3f-dd74-01288d796f4c"
      },
      "source": [
        "net = nn.Sequential(model.eval(),classifier)\r\n",
        "targets = torch.LongTensor(queryset.targets)\r\n",
        "metrics = calib_metrics(targets,queryloader,net)\r\n",
        "\r\n",
        "print(\"ECE:{:.2f}%\".format(metrics.ECE(M=15).item()*100))\r\n",
        "metrics.reliability_diagram(M=15)"
      ],
      "execution_count": null,
      "outputs": [
        {
          "output_type": "stream",
          "text": [
            "ECE:52.08%\n"
          ],
          "name": "stdout"
        },
        {
          "output_type": "display_data",
          "data": {
            "image/png": "[encoded data removed]",
            "text/plain": [
              "<Figure size 288x288 with 1 Axes>"
            ]
          },
          "metadata": {
            "tags": [],
            "needs_background": "light"
          }
        }
      ]
    },
    {
      "cell_type": "markdown",
      "metadata": {
        "id": "Tn1tv3h9FStA"
      },
      "source": [
        "# Temperature Scaling (Platt Scaling)\r\n",
        "* Code from : https://github.com/gpleiss/temperature_scaling/blob/master/temperature_scaling.py"
      ]
    },
    {
      "cell_type": "code",
      "metadata": {
        "id": "KwIdI_wMC8Nv"
      },
      "source": [
        "class ModelWithTemperature(nn.Module):\r\n",
        "    \"\"\"\r\n",
        "    A thin decorator, which wraps a model with temperature scaling\r\n",
        "    model (nn.Module):\r\n",
        "        A classification neural network\r\n",
        "        NB: Output of the neural network should be the classification logits,\r\n",
        "            NOT the softmax (or log softmax)!\r\n",
        "    \"\"\"\r\n",
        "    def __init__(self, model):\r\n",
        "        super(ModelWithTemperature, self).__init__()\r\n",
        "        self.model = model\r\n",
        "        self.temperature = nn.Parameter(torch.ones(1) * 1.5)\r\n",
        "\r\n",
        "    def forward(self, input):\r\n",
        "        logits = self.model(input)\r\n",
        "        return self.temperature_scale(logits)\r\n",
        "\r\n",
        "    def temperature_scale(self, logits):\r\n",
        "        \"\"\"\r\n",
        "        Perform temperature scaling on logits\r\n",
        "        \"\"\"\r\n",
        "        # Expand temperature to match the size of logits\r\n",
        "        temperature = self.temperature.unsqueeze(1).expand(logits.size(0), logits.size(1))\r\n",
        "        return logits / temperature\r\n",
        "\r\n",
        "    # This function probably should live outside of this class, but whatever\r\n",
        "    def set_temperature(self, valid_loader):\r\n",
        "        \"\"\"\r\n",
        "        Tune the tempearature of the model (using the validation set).\r\n",
        "        We're going to set it to optimize NLL.\r\n",
        "        valid_loader (DataLoader): validation set loader\r\n",
        "        \"\"\"\r\n",
        "        self.cuda()\r\n",
        "        nll_criterion = nn.CrossEntropyLoss().cuda()\r\n",
        "        ece_criterion = _ECELoss().cuda()\r\n",
        "\r\n",
        "        # First: collect all the logits and labels for the validation set\r\n",
        "        logits_list = []\r\n",
        "        labels_list = []\r\n",
        "        with torch.no_grad():\r\n",
        "            for input, label in valid_loader:\r\n",
        "                input = input.cuda()\r\n",
        "                logits = self.model(input)\r\n",
        "                logits_list.append(logits)\r\n",
        "                labels_list.append(label)\r\n",
        "            logits = torch.cat(logits_list).cuda()\r\n",
        "            labels = torch.cat(labels_list).cuda()\r\n",
        "\r\n",
        "        # Calculate NLL and ECE before temperature scaling\r\n",
        "        before_temperature_nll = nll_criterion(logits, labels).item()\r\n",
        "        before_temperature_ece = ece_criterion(logits, labels).item()\r\n",
        "        print('Before temperature - NLL: %.3f, ECE: %.3f' % (before_temperature_nll, before_temperature_ece))\r\n",
        "\r\n",
        "        # Next: optimize the temperature w.r.t. NLL\r\n",
        "        optimizer = optim.LBFGS([self.temperature], lr=0.01, max_iter=50)\r\n",
        "\r\n",
        "        def eval():\r\n",
        "            loss = nll_criterion(self.temperature_scale(logits), labels)\r\n",
        "            loss.backward()\r\n",
        "            return loss\r\n",
        "        optimizer.step(eval)\r\n",
        "\r\n",
        "        # Calculate NLL and ECE after temperature scaling\r\n",
        "        after_temperature_nll = nll_criterion(self.temperature_scale(logits), labels).item()\r\n",
        "        after_temperature_ece = ece_criterion(self.temperature_scale(logits), labels).item()\r\n",
        "        print('Optimal temperature: %.3f' % self.temperature.item())\r\n",
        "        print('After temperature - NLL: %.3f, ECE: %.3f' % (after_temperature_nll, after_temperature_ece))\r\n",
        "\r\n",
        "        return self\r\n",
        "\r\n",
        "\r\n",
        "class _ECELoss(nn.Module):\r\n",
        "    \"\"\"\r\n",
        "    Calculates the Expected Calibration Error of a model.\r\n",
        "    (This isn't necessary for temperature scaling, just a cool metric).\r\n",
        "    The input to this loss is the logits of a model, NOT the softmax scores.\r\n",
        "    This divides the confidence outputs into equally-sized interval bins.\r\n",
        "    In each bin, we compute the confidence gap:\r\n",
        "    bin_gap = | avg_confidence_in_bin - accuracy_in_bin |\r\n",
        "    We then return a weighted average of the gaps, based on the number\r\n",
        "    of samples in each bin\r\n",
        "    See: Naeini, Mahdi Pakdaman, Gregory F. Cooper, and Milos Hauskrecht.\r\n",
        "    \"Obtaining Well Calibrated Probabilities Using Bayesian Binning.\" AAAI.\r\n",
        "    2015.\r\n",
        "    \"\"\"\r\n",
        "    def __init__(self, n_bins=15):\r\n",
        "        \"\"\"\r\n",
        "        n_bins (int): number of confidence interval bins\r\n",
        "        \"\"\"\r\n",
        "        super(_ECELoss, self).__init__()\r\n",
        "        bin_boundaries = torch.linspace(0, 1, n_bins + 1)\r\n",
        "        self.bin_lowers = bin_boundaries[:-1]\r\n",
        "        self.bin_uppers = bin_boundaries[1:]\r\n",
        "\r\n",
        "    def forward(self, logits, labels):\r\n",
        "        softmaxes = F.softmax(logits, dim=1)\r\n",
        "        confidences, predictions = torch.max(softmaxes, 1)\r\n",
        "        accuracies = predictions.eq(labels)\r\n",
        "\r\n",
        "        ece = torch.zeros(1, device=logits.device)\r\n",
        "        for bin_lower, bin_upper in zip(self.bin_lowers, self.bin_uppers):\r\n",
        "            # Calculated |confidence - accuracy| in each bin\r\n",
        "            in_bin = confidences.gt(bin_lower.item()) * confidences.le(bin_upper.item())\r\n",
        "            prop_in_bin = in_bin.float().mean()\r\n",
        "            if prop_in_bin.item() > 0:\r\n",
        "                accuracy_in_bin = accuracies[in_bin].float().mean()\r\n",
        "                avg_confidence_in_bin = confidences[in_bin].mean()\r\n",
        "                ece += torch.abs(avg_confidence_in_bin - accuracy_in_bin) * prop_in_bin\r\n",
        "\r\n",
        "        return ece"
      ],
      "execution_count": null,
      "outputs": []
    },
    {
      "cell_type": "code",
      "metadata": {
        "colab": {
          "base_uri": "https://localhost:8080/"
        },
        "id": "IHlgYUTTM8Y_",
        "outputId": "7d05b8a6-6b69-4de3-e767-e68b126cc1c7"
      },
      "source": [
        "net_temp = ModelWithTemperature(net).set_temperature(queryloader)"
      ],
      "execution_count": null,
      "outputs": [
        {
          "output_type": "stream",
          "text": [
            "Before temperature - NLL: 1.262, ECE: 0.521\n",
            "Optimal temperature: 0.089\n",
            "After temperature - NLL: 0.800, ECE: 0.102\n"
          ],
          "name": "stdout"
        }
      ]
    },
    {
      "cell_type": "code",
      "metadata": {
        "colab": {
          "base_uri": "https://localhost:8080/",
          "height": 327
        },
        "id": "boDhlRfpNHUu",
        "outputId": "3d981583-d7ec-4c89-edfe-7c8c57201930"
      },
      "source": [
        "metrics_temp = calib_metrics(targets,queryloader,net_temp)\r\n",
        "print(\"ECE:{:.2f}%\".format(temp_scaled_metrics.ECE(M=15).item()*100))\r\n",
        "\r\n",
        "M=15\r\n",
        "ece_list = [metrics.ECE(M),metrics_temp.ECE(M)]\r\n",
        "acc_list = [metrics.ACC(M),metrics_temp.ACC(M)]\r\n",
        "ttl_list = [\"standard\",\"temperature scaled\"]\r\n",
        "\r\n",
        "fig,ax = plt.subplots(1,2,figsize=(9,4))\r\n",
        "for i in range(2):\r\n",
        "  ax[i].bar(torch.arange(0,M)+0.5,acc_list[i])\r\n",
        "  ax[i].set_xticks(torch.arange(0,M+1))\r\n",
        "  ax[i].set_xticklabels([\"{:.2f}\".format(i/M) for i in range(M+1)],rotation=\"vertical\")\r\n",
        "  ax[i].set_title(ttl_list[i]+\", ECE: {:.2f}%\".format(ece_list[i].item()*100))\r\n",
        "  ax[i].set_xlabel(\"confidence\")\r\n",
        "  ax[i].set_ylabel(\"accuracy\")\r\n",
        "  ax[i].plot(torch.linspace(0,1,M),c='r',linestyle='--')"
      ],
      "execution_count": null,
      "outputs": [
        {
          "output_type": "stream",
          "text": [
            "ECE:10.02%\n"
          ],
          "name": "stdout"
        },
        {
          "output_type": "display_data",
          "data": {
            "image/png": "[encoded data removed]",
            "text/plain": [
              "<Figure size 648x288 with 2 Axes>"
            ]
          },
          "metadata": {
            "tags": [],
            "needs_background": "light"
          }
        }
      ]
    },
    {
      "cell_type": "code",
      "metadata": {
        "id": "65ffyJ6sWBNB"
      },
      "source": [
        ""
      ],
      "execution_count": null,
      "outputs": []
    }
  ]
}